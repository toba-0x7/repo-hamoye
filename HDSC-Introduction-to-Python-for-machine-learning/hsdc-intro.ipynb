{
 "cells": [
  {
   "cell_type": "code",
   "execution_count": 1,
   "id": "9e7985d3-c4a1-47db-927f-c860699c978d",
   "metadata": {},
   "outputs": [],
   "source": [
    "import pandas as pd\n",
    "import os"
   ]
  },
  {
   "cell_type": "code",
   "execution_count": 2,
   "id": "ddb4979d-9851-4752-ad31-37659ca2c847",
   "metadata": {},
   "outputs": [
    {
     "data": {
      "text/html": [
       "<div>\n",
       "<style scoped>\n",
       "    .dataframe tbody tr th:only-of-type {\n",
       "        vertical-align: middle;\n",
       "    }\n",
       "\n",
       "    .dataframe tbody tr th {\n",
       "        vertical-align: top;\n",
       "    }\n",
       "\n",
       "    .dataframe thead th {\n",
       "        text-align: right;\n",
       "    }\n",
       "</style>\n",
       "<table border=\"1\" class=\"dataframe\">\n",
       "  <thead>\n",
       "    <tr style=\"text-align: right;\">\n",
       "      <th></th>\n",
       "      <th>Area Code</th>\n",
       "      <th>Area</th>\n",
       "      <th>Item Code</th>\n",
       "      <th>Item</th>\n",
       "      <th>Element Code</th>\n",
       "      <th>Element</th>\n",
       "      <th>Unit</th>\n",
       "      <th>Y2014</th>\n",
       "      <th>Y2015</th>\n",
       "      <th>Y2016</th>\n",
       "      <th>Y2017</th>\n",
       "      <th>Y2018</th>\n",
       "    </tr>\n",
       "  </thead>\n",
       "  <tbody>\n",
       "    <tr>\n",
       "      <th>0</th>\n",
       "      <td>4</td>\n",
       "      <td>Algeria</td>\n",
       "      <td>2501</td>\n",
       "      <td>Population</td>\n",
       "      <td>511</td>\n",
       "      <td>Total Population - Both sexes</td>\n",
       "      <td>1000 persons</td>\n",
       "      <td>38924.00</td>\n",
       "      <td>39728.00</td>\n",
       "      <td>40551.00</td>\n",
       "      <td>41389.00</td>\n",
       "      <td>42228.00</td>\n",
       "    </tr>\n",
       "    <tr>\n",
       "      <th>1</th>\n",
       "      <td>4</td>\n",
       "      <td>Algeria</td>\n",
       "      <td>2501</td>\n",
       "      <td>Population</td>\n",
       "      <td>5301</td>\n",
       "      <td>Domestic supply quantity</td>\n",
       "      <td>1000 tonnes</td>\n",
       "      <td>0.00</td>\n",
       "      <td>0.00</td>\n",
       "      <td>0.00</td>\n",
       "      <td>0.00</td>\n",
       "      <td>0.00</td>\n",
       "    </tr>\n",
       "    <tr>\n",
       "      <th>2</th>\n",
       "      <td>4</td>\n",
       "      <td>Algeria</td>\n",
       "      <td>2901</td>\n",
       "      <td>Grand Total</td>\n",
       "      <td>664</td>\n",
       "      <td>Food supply (kcal/capita/day)</td>\n",
       "      <td>kcal/capita/day</td>\n",
       "      <td>3377.00</td>\n",
       "      <td>3379.00</td>\n",
       "      <td>3372.00</td>\n",
       "      <td>3341.00</td>\n",
       "      <td>3322.00</td>\n",
       "    </tr>\n",
       "    <tr>\n",
       "      <th>3</th>\n",
       "      <td>4</td>\n",
       "      <td>Algeria</td>\n",
       "      <td>2901</td>\n",
       "      <td>Grand Total</td>\n",
       "      <td>674</td>\n",
       "      <td>Protein supply quantity (g/capita/day)</td>\n",
       "      <td>g/capita/day</td>\n",
       "      <td>94.90</td>\n",
       "      <td>94.35</td>\n",
       "      <td>94.72</td>\n",
       "      <td>92.82</td>\n",
       "      <td>91.83</td>\n",
       "    </tr>\n",
       "    <tr>\n",
       "      <th>4</th>\n",
       "      <td>4</td>\n",
       "      <td>Algeria</td>\n",
       "      <td>2901</td>\n",
       "      <td>Grand Total</td>\n",
       "      <td>684</td>\n",
       "      <td>Fat supply quantity (g/capita/day)</td>\n",
       "      <td>g/capita/day</td>\n",
       "      <td>80.06</td>\n",
       "      <td>79.36</td>\n",
       "      <td>77.40</td>\n",
       "      <td>80.19</td>\n",
       "      <td>77.28</td>\n",
       "    </tr>\n",
       "  </tbody>\n",
       "</table>\n",
       "</div>"
      ],
      "text/plain": [
       "   Area Code     Area  Item Code         Item  Element Code  \\\n",
       "0          4  Algeria       2501   Population           511   \n",
       "1          4  Algeria       2501   Population          5301   \n",
       "2          4  Algeria       2901  Grand Total           664   \n",
       "3          4  Algeria       2901  Grand Total           674   \n",
       "4          4  Algeria       2901  Grand Total           684   \n",
       "\n",
       "                                  Element             Unit     Y2014  \\\n",
       "0           Total Population - Both sexes     1000 persons  38924.00   \n",
       "1                Domestic supply quantity      1000 tonnes      0.00   \n",
       "2           Food supply (kcal/capita/day)  kcal/capita/day   3377.00   \n",
       "3  Protein supply quantity (g/capita/day)     g/capita/day     94.90   \n",
       "4      Fat supply quantity (g/capita/day)     g/capita/day     80.06   \n",
       "\n",
       "      Y2015     Y2016     Y2017     Y2018  \n",
       "0  39728.00  40551.00  41389.00  42228.00  \n",
       "1      0.00      0.00      0.00      0.00  \n",
       "2   3379.00   3372.00   3341.00   3322.00  \n",
       "3     94.35     94.72     92.82     91.83  \n",
       "4     79.36     77.40     80.19     77.28  "
      ]
     },
     "execution_count": 2,
     "metadata": {},
     "output_type": "execute_result"
    }
   ],
   "source": [
    "file_path = \"/USERS/user/downloads/FoodBalanceSheets_E_Africa_NOFLAG.csv\"\n",
    "df = pd.read_csv(file_path, encoding='latin1')\n",
    "df.head()"
   ]
  },
  {
   "cell_type": "code",
   "execution_count": 3,
   "id": "db2edfcb-0bcb-43ec-bc8f-92f8c5ae4743",
   "metadata": {},
   "outputs": [
    {
     "name": "stdout",
     "output_type": "stream",
     "text": [
      "The Area with the 7th lowest sum in 2017 is: Guinea-Bissau\n"
     ]
    }
   ],
   "source": [
    "# Group by 'Area' and calculate the sum of 'Y2017'\n",
    "grouped = df.groupby('Area')['Y2017'].sum().reset_index()\n",
    "\n",
    "# Sort the DataFrame by the sums in ascending order\n",
    "sorted_df = grouped.sort_values(by='Y2017')\n",
    "\n",
    "# Retrieve the 'Area' with the 7th lowest sum\n",
    "seventh_lowest_area = sorted_df.iloc[6]['Area']\n",
    "\n",
    "# Display the result\n",
    "print(\"The Area with the 7th lowest sum in 2017 is:\", seventh_lowest_area)\n"
   ]
  },
  {
   "cell_type": "code",
   "execution_count": 4,
   "id": "15f812bc-27ca-4290-a40e-9859dac55a96",
   "metadata": {},
   "outputs": [
    {
     "name": "stdout",
     "output_type": "stream",
     "text": [
      "Mean for 2017: 140.92\n",
      "Standard Deviation for 2017: 1671.86\n"
     ]
    }
   ],
   "source": [
    "# Calculate the mean and standard deviation for the year 2017\n",
    "mean_2017 = round(df['Y2017'].mean(), 2)\n",
    "std_dev_2017 = round(df['Y2017'].std(), 2)\n",
    "\n",
    "# Display the results\n",
    "print(\"Mean for 2017:\", mean_2017)\n",
    "print(\"Standard Deviation for 2017:\", std_dev_2017)"
   ]
  },
  {
   "cell_type": "code",
   "execution_count": 5,
   "id": "e6330b7a-7844-4cc5-9e2b-ed22d76a7b70",
   "metadata": {},
   "outputs": [
    {
     "name": "stdout",
     "output_type": "stream",
     "text": [
      "The Area with the highest sum in 2017 is: Nigeria\n"
     ]
    }
   ],
   "source": [
    "# Find the 'Area' with the highest sum in 2017\n",
    "highest_sum_area = grouped.loc[grouped['Y2017'].idxmax()]['Area']\n",
    "\n",
    "# Display the result\n",
    "print(\"The Area with the highest sum in 2017 is:\", highest_sum_area)"
   ]
  },
  {
   "cell_type": "code",
   "execution_count": 6,
   "id": "ed197c7d-5967-40ef-8624-fb49024899fa",
   "metadata": {},
   "outputs": [
    {
     "name": "stdout",
     "output_type": "stream",
     "text": [
      "Total Wine produced in 2015: 4251.81\n",
      "Total Wine produced in 2018: 4039.32\n"
     ]
    }
   ],
   "source": [
    "# Group by 'Item' and calculate the sum of 'Y2015' and 'Y2018'\n",
    "wine_production = df[df['Item'] == 'Wine'].groupby('Item')[['Y2015', 'Y2018']].sum()\n",
    "\n",
    "# Extract the sum for 2015 and 2018\n",
    "wine_2015_total = wine_production['Y2015'].values[0]\n",
    "wine_2018_total = wine_production['Y2018'].values[0]\n",
    "\n",
    "# Display the results\n",
    "print(\"Total Wine produced in 2015:\", wine_2015_total)\n",
    "print(\"Total Wine produced in 2018:\", wine_2018_total)"
   ]
  },
  {
   "cell_type": "code",
   "execution_count": 7,
   "id": "57e4b3b4-2b38-4522-be00-7d159699c11e",
   "metadata": {},
   "outputs": [
    {
     "name": "stdout",
     "output_type": "stream",
     "text": [
      "Total sum of Processing in 2017: 292836.0\n"
     ]
    }
   ],
   "source": [
    "# Group by 'Element' and calculate the sum of 'Y2017'\n",
    "element_totals = df[df['Element'] == 'Processing'].groupby('Element')['Y2017'].sum().reset_index()\n",
    "\n",
    "# Extract the sum for 2017\n",
    "processing_2017_total = element_totals['Y2017'].values[0]\n",
    "\n",
    "# Display the result\n",
    "print(\"Total sum of Processing in 2017:\", processing_2017_total)"
   ]
  },
  {
   "cell_type": "code",
   "execution_count": 8,
   "id": "555d3786-79e8-41ba-84fa-d0045a0538e0",
   "metadata": {},
   "outputs": [
    {
     "name": "stdout",
     "output_type": "stream",
     "text": [
      "Total number of missing data in 2014: 1589\n",
      "Percentage of missing data in 2014 to 3 decimal places: 2.607 %\n"
     ]
    }
   ],
   "source": [
    "# Calculate the total number of missing values in 'Y2014'\n",
    "missing_values_2014 = df['Y2014'].isnull().sum()\n",
    "\n",
    "# Calculate the total number of values in 'Y2014'\n",
    "total_values_2014 = len(df['Y2014'])\n",
    "\n",
    "# Calculate the percentage of missing values in 'Y2014'\n",
    "percentage_missing_2014 = (missing_values_2014 / total_values_2014) * 100\n",
    "\n",
    "# Display the results\n",
    "print(\"Total number of missing data in 2014:\", missing_values_2014)\n",
    "print(\"Percentage of missing data in 2014 to 3 decimal places:\", round(percentage_missing_2014, 3), \"%\")"
   ]
  },
  {
   "cell_type": "code",
   "execution_count": 9,
   "id": "794b9dd1-abb3-4e97-a399-ae4aa4ac2098",
   "metadata": {},
   "outputs": [
    {
     "name": "stdout",
     "output_type": "stream",
     "text": [
      "The year with the highest sum of Stock Variation is: Y2014\n"
     ]
    }
   ],
   "source": [
    "# Group by 'Element' and calculate the sum of 'Stock Variation'\n",
    "element_totals = df[df['Element'] == 'Stock Variation'].groupby('Element')[['Y2014', 'Y2015', 'Y2016', 'Y2017', 'Y2018']].sum()\n",
    "\n",
    "# Find the year with the highest sum for 'Stock Variation'\n",
    "highest_stock_variation_year = element_totals.idxmax(axis=1).values[0]\n",
    "\n",
    "# Display the result\n",
    "print(\"The year with the highest sum of Stock Variation is:\", highest_stock_variation_year)"
   ]
  },
  {
   "cell_type": "code",
   "execution_count": 10,
   "id": "0e680077-e8b5-4565-a6f3-3b33d543d891",
   "metadata": {},
   "outputs": [
    {
     "name": "stdout",
     "output_type": "stream",
     "text": [
      "Total Protein supply quantity in Madagascar in 2015 (3 digits): 173.050\n"
     ]
    }
   ],
   "source": [
    "# Calculate the total Protein supply quantity in Madagascar in 2015\n",
    "madagascar_protein_2015 = df[(df['Area'] == 'Madagascar') & (df['Element'] == 'Protein supply quantity (g/capita/day)')]['Y2015'].sum()\n",
    "\n",
    "# Display the result with 3 digits\n",
    "print(\"Total Protein supply quantity in Madagascar in 2015 (3 digits): {:.3f}\".format(madagascar_protein_2015))"
   ]
  },
  {
   "cell_type": "code",
   "execution_count": 11,
   "id": "e7b4eb3e-e0bc-4e50-bebd-cd719fc9c668",
   "metadata": {},
   "outputs": [
    {
     "name": "stdout",
     "output_type": "stream",
     "text": [
      "Total number of unique countries in the dataset: 49\n"
     ]
    }
   ],
   "source": [
    "# Determine the total number of unique countries in the dataset\n",
    "unique_countries_count = df['Area'].nunique()\n",
    "\n",
    "# Display the results\n",
    "print(\"Total number of unique countries in the dataset:\", unique_countries_count)"
   ]
  },
  {
   "cell_type": "code",
   "execution_count": 12,
   "id": "ff353190-eb93-4d1b-a801-615ab63c60bd",
   "metadata": {},
   "outputs": [
    {
     "name": "stdout",
     "output_type": "stream",
     "text": [
      "Year with the least correlation with 'Element Code': Y2016\n"
     ]
    }
   ],
   "source": [
    "# Define the years to consider\n",
    "years = ['Y2014', 'Y2015', 'Y2016', 'Y2017', 'Y2018']\n",
    "\n",
    "# Calculate the correlation between 'Element Code' and each year\n",
    "correlations = {}\n",
    "for year in years:\n",
    "    correlation = df['Element Code'].corr(df[year])\n",
    "    correlations[year] = correlation\n",
    "\n",
    "# Find the year with the least correlation\n",
    "least_correlated_year = min(correlations, key=correlations.get)\n",
    "\n",
    "# Display the year with the least correlation\n",
    "print(\"Year with the least correlation with 'Element Code':\", least_correlated_year)"
   ]
  }
 ],
 "metadata": {
  "kernelspec": {
   "display_name": "Python 3 (ipykernel)",
   "language": "python",
   "name": "python3"
  },
  "language_info": {
   "codemirror_mode": {
    "name": "ipython",
    "version": 3
   },
   "file_extension": ".py",
   "mimetype": "text/x-python",
   "name": "python",
   "nbconvert_exporter": "python",
   "pygments_lexer": "ipython3",
   "version": "3.11.4"
  }
 },
 "nbformat": 4,
 "nbformat_minor": 5
}
